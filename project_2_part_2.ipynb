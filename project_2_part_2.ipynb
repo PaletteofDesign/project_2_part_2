{
  "nbformat": 4,
  "nbformat_minor": 0,
  "metadata": {
    "colab": {
      "name": "project_2_part_2.ipynb",
      "provenance": [],
      "collapsed_sections": [],
      "authorship_tag": "ABX9TyN/lvmEiCZjhwWLvIMHCMXy",
      "include_colab_link": true
    },
    "kernelspec": {
      "name": "python3",
      "display_name": "Python 3"
    },
    "language_info": {
      "name": "python"
    }
  },
  "cells": [
    {
      "cell_type": "markdown",
      "metadata": {
        "id": "view-in-github",
        "colab_type": "text"
      },
      "source": [
        "<a href=\"https://colab.research.google.com/github/PaletteofDesign/project_2_part_2/blob/main/project_2_part_2.ipynb\" target=\"_parent\"><img src=\"https://colab.research.google.com/assets/colab-badge.svg\" alt=\"Open In Colab\"/></a>"
      ]
    },
    {
      "cell_type": "code",
      "metadata": {
        "colab": {
          "base_uri": "https://localhost:8080/"
        },
        "id": "x4h1FdCFKdna",
        "outputId": "189c33cc-2d10-4ba3-d012-acbf24bb9fcf"
      },
      "source": [
        "from google.colab import drive\n",
        "drive.mount('/content/drive')"
      ],
      "execution_count": 1,
      "outputs": [
        {
          "output_type": "stream",
          "name": "stdout",
          "text": [
            "Drive already mounted at /content/drive; to attempt to forcibly remount, call drive.mount(\"/content/drive\", force_remount=True).\n"
          ]
        }
      ]
    },
    {
      "cell_type": "code",
      "metadata": {
        "id": "vkkbESNPMP7H"
      },
      "source": [
        "# Import libraries\n",
        "import matplotlib.pyplot as plt\n",
        "import seaborn as sns\n",
        "import pandas as pd\n",
        "import numpy as np\n",
        "from sklearn.model_selection import train_test_split\n",
        "from sklearn.preprocessing import StandardScaler\n",
        "from sklearn.linear_model import LogisticRegression\n",
        "from sklearn.ensemble import BaggingClassifier, RandomForestClassifier\n",
        "from sklearn.neighbors import KNeighborsClassifier\n",
        "from sklearn.multiclass import OneVsOneClassifier\n",
        "from sklearn.metrics import accuracy_score\n",
        "from sklearn.metrics import roc_auc_score, plot_roc_curve\n",
        "from sklearn.metrics import plot_confusion_matrix\n",
        "from sklearn.metrics import confusion_matrix, classification_report\n",
        "from sklearn.cluster import AgglomerativeClustering\n",
        "import scipy.cluster.hierarchy as sch\n",
        "from sklearn.cluster import DBSCAN\n",
        "from sklearn.metrics import silhouette_score"
      ],
      "execution_count": 2,
      "outputs": []
    },
    {
      "cell_type": "code",
      "metadata": {
        "colab": {
          "base_uri": "https://localhost:8080/",
          "height": 226
        },
        "id": "XfembxEnMuCu",
        "outputId": "e296ab8f-f931-4cca-c4cb-e4d6b2d0791f"
      },
      "source": [
        "# Loading data\n",
        "f = '/content/creditcard.csv'\n",
        "fraud_data = pd.read_csv(f)\n",
        "fraud_data.head()"
      ],
      "execution_count": 3,
      "outputs": [
        {
          "output_type": "execute_result",
          "data": {
            "text/html": [
              "<div>\n",
              "<style scoped>\n",
              "    .dataframe tbody tr th:only-of-type {\n",
              "        vertical-align: middle;\n",
              "    }\n",
              "\n",
              "    .dataframe tbody tr th {\n",
              "        vertical-align: top;\n",
              "    }\n",
              "\n",
              "    .dataframe thead th {\n",
              "        text-align: right;\n",
              "    }\n",
              "</style>\n",
              "<table border=\"1\" class=\"dataframe\">\n",
              "  <thead>\n",
              "    <tr style=\"text-align: right;\">\n",
              "      <th></th>\n",
              "      <th>Time</th>\n",
              "      <th>V1</th>\n",
              "      <th>V2</th>\n",
              "      <th>V3</th>\n",
              "      <th>V4</th>\n",
              "      <th>V5</th>\n",
              "      <th>V6</th>\n",
              "      <th>V7</th>\n",
              "      <th>V8</th>\n",
              "      <th>V9</th>\n",
              "      <th>V10</th>\n",
              "      <th>V11</th>\n",
              "      <th>V12</th>\n",
              "      <th>V13</th>\n",
              "      <th>V14</th>\n",
              "      <th>V15</th>\n",
              "      <th>V16</th>\n",
              "      <th>V17</th>\n",
              "      <th>V18</th>\n",
              "      <th>V19</th>\n",
              "      <th>V20</th>\n",
              "      <th>V21</th>\n",
              "      <th>V22</th>\n",
              "      <th>V23</th>\n",
              "      <th>V24</th>\n",
              "      <th>V25</th>\n",
              "      <th>V26</th>\n",
              "      <th>V27</th>\n",
              "      <th>V28</th>\n",
              "      <th>Amount</th>\n",
              "      <th>Class</th>\n",
              "    </tr>\n",
              "  </thead>\n",
              "  <tbody>\n",
              "    <tr>\n",
              "      <th>0</th>\n",
              "      <td>0</td>\n",
              "      <td>-1.359807</td>\n",
              "      <td>-0.072781</td>\n",
              "      <td>2.536347</td>\n",
              "      <td>1.378155</td>\n",
              "      <td>-0.338321</td>\n",
              "      <td>0.462388</td>\n",
              "      <td>0.239599</td>\n",
              "      <td>0.098698</td>\n",
              "      <td>0.363787</td>\n",
              "      <td>0.090794</td>\n",
              "      <td>-0.551600</td>\n",
              "      <td>-0.617801</td>\n",
              "      <td>-0.991390</td>\n",
              "      <td>-0.311169</td>\n",
              "      <td>1.468177</td>\n",
              "      <td>-0.470401</td>\n",
              "      <td>0.207971</td>\n",
              "      <td>0.025791</td>\n",
              "      <td>0.403993</td>\n",
              "      <td>0.251412</td>\n",
              "      <td>-0.018307</td>\n",
              "      <td>0.277838</td>\n",
              "      <td>-0.110474</td>\n",
              "      <td>0.066928</td>\n",
              "      <td>0.128539</td>\n",
              "      <td>-0.189115</td>\n",
              "      <td>0.133558</td>\n",
              "      <td>-0.021053</td>\n",
              "      <td>149.62</td>\n",
              "      <td>0.0</td>\n",
              "    </tr>\n",
              "    <tr>\n",
              "      <th>1</th>\n",
              "      <td>0</td>\n",
              "      <td>1.191857</td>\n",
              "      <td>0.266151</td>\n",
              "      <td>0.166480</td>\n",
              "      <td>0.448154</td>\n",
              "      <td>0.060018</td>\n",
              "      <td>-0.082361</td>\n",
              "      <td>-0.078803</td>\n",
              "      <td>0.085102</td>\n",
              "      <td>-0.255425</td>\n",
              "      <td>-0.166974</td>\n",
              "      <td>1.612727</td>\n",
              "      <td>1.065235</td>\n",
              "      <td>0.489095</td>\n",
              "      <td>-0.143772</td>\n",
              "      <td>0.635558</td>\n",
              "      <td>0.463917</td>\n",
              "      <td>-0.114805</td>\n",
              "      <td>-0.183361</td>\n",
              "      <td>-0.145783</td>\n",
              "      <td>-0.069083</td>\n",
              "      <td>-0.225775</td>\n",
              "      <td>-0.638672</td>\n",
              "      <td>0.101288</td>\n",
              "      <td>-0.339846</td>\n",
              "      <td>0.167170</td>\n",
              "      <td>0.125895</td>\n",
              "      <td>-0.008983</td>\n",
              "      <td>0.014724</td>\n",
              "      <td>2.69</td>\n",
              "      <td>0.0</td>\n",
              "    </tr>\n",
              "    <tr>\n",
              "      <th>2</th>\n",
              "      <td>1</td>\n",
              "      <td>-1.358354</td>\n",
              "      <td>-1.340163</td>\n",
              "      <td>1.773209</td>\n",
              "      <td>0.379780</td>\n",
              "      <td>-0.503198</td>\n",
              "      <td>1.800499</td>\n",
              "      <td>0.791461</td>\n",
              "      <td>0.247676</td>\n",
              "      <td>-1.514654</td>\n",
              "      <td>0.207643</td>\n",
              "      <td>0.624501</td>\n",
              "      <td>0.066084</td>\n",
              "      <td>0.717293</td>\n",
              "      <td>-0.165946</td>\n",
              "      <td>2.345865</td>\n",
              "      <td>-2.890083</td>\n",
              "      <td>1.109969</td>\n",
              "      <td>-0.121359</td>\n",
              "      <td>-2.261857</td>\n",
              "      <td>0.524980</td>\n",
              "      <td>0.247998</td>\n",
              "      <td>0.771679</td>\n",
              "      <td>0.909412</td>\n",
              "      <td>-0.689281</td>\n",
              "      <td>-0.327642</td>\n",
              "      <td>-0.139097</td>\n",
              "      <td>-0.055353</td>\n",
              "      <td>-0.059752</td>\n",
              "      <td>378.66</td>\n",
              "      <td>0.0</td>\n",
              "    </tr>\n",
              "    <tr>\n",
              "      <th>3</th>\n",
              "      <td>1</td>\n",
              "      <td>-0.966272</td>\n",
              "      <td>-0.185226</td>\n",
              "      <td>1.792993</td>\n",
              "      <td>-0.863291</td>\n",
              "      <td>-0.010309</td>\n",
              "      <td>1.247203</td>\n",
              "      <td>0.237609</td>\n",
              "      <td>0.377436</td>\n",
              "      <td>-1.387024</td>\n",
              "      <td>-0.054952</td>\n",
              "      <td>-0.226487</td>\n",
              "      <td>0.178228</td>\n",
              "      <td>0.507757</td>\n",
              "      <td>-0.287924</td>\n",
              "      <td>-0.631418</td>\n",
              "      <td>-1.059647</td>\n",
              "      <td>-0.684093</td>\n",
              "      <td>1.965775</td>\n",
              "      <td>-1.232622</td>\n",
              "      <td>-0.208038</td>\n",
              "      <td>-0.108300</td>\n",
              "      <td>0.005274</td>\n",
              "      <td>-0.190321</td>\n",
              "      <td>-1.175575</td>\n",
              "      <td>0.647376</td>\n",
              "      <td>-0.221929</td>\n",
              "      <td>0.062723</td>\n",
              "      <td>0.061458</td>\n",
              "      <td>123.50</td>\n",
              "      <td>0.0</td>\n",
              "    </tr>\n",
              "    <tr>\n",
              "      <th>4</th>\n",
              "      <td>2</td>\n",
              "      <td>-1.158233</td>\n",
              "      <td>0.877737</td>\n",
              "      <td>1.548718</td>\n",
              "      <td>0.403034</td>\n",
              "      <td>-0.407193</td>\n",
              "      <td>0.095921</td>\n",
              "      <td>0.592941</td>\n",
              "      <td>-0.270533</td>\n",
              "      <td>0.817739</td>\n",
              "      <td>0.753074</td>\n",
              "      <td>-0.822843</td>\n",
              "      <td>0.538196</td>\n",
              "      <td>1.345852</td>\n",
              "      <td>-1.119670</td>\n",
              "      <td>0.175121</td>\n",
              "      <td>-0.451449</td>\n",
              "      <td>-0.237033</td>\n",
              "      <td>-0.038195</td>\n",
              "      <td>0.803487</td>\n",
              "      <td>0.408542</td>\n",
              "      <td>-0.009431</td>\n",
              "      <td>0.798278</td>\n",
              "      <td>-0.137458</td>\n",
              "      <td>0.141267</td>\n",
              "      <td>-0.206010</td>\n",
              "      <td>0.502292</td>\n",
              "      <td>0.219422</td>\n",
              "      <td>0.215153</td>\n",
              "      <td>69.99</td>\n",
              "      <td>0.0</td>\n",
              "    </tr>\n",
              "  </tbody>\n",
              "</table>\n",
              "</div>"
            ],
            "text/plain": [
              "   Time        V1        V2        V3  ...       V27       V28  Amount  Class\n",
              "0     0 -1.359807 -0.072781  2.536347  ...  0.133558 -0.021053  149.62    0.0\n",
              "1     0  1.191857  0.266151  0.166480  ... -0.008983  0.014724    2.69    0.0\n",
              "2     1 -1.358354 -1.340163  1.773209  ... -0.055353 -0.059752  378.66    0.0\n",
              "3     1 -0.966272 -0.185226  1.792993  ...  0.062723  0.061458  123.50    0.0\n",
              "4     2 -1.158233  0.877737  1.548718  ...  0.219422  0.215153   69.99    0.0\n",
              "\n",
              "[5 rows x 31 columns]"
            ]
          },
          "metadata": {},
          "execution_count": 3
        }
      ]
    },
    {
      "cell_type": "code",
      "metadata": {
        "colab": {
          "base_uri": "https://localhost:8080/",
          "height": 320
        },
        "id": "HlEdO32yNEmc",
        "outputId": "5c1fc7db-ca67-4ffa-f4e7-7e8abaf954fa"
      },
      "source": [
        "# Evaluating data\n",
        "fraud_data.describe()"
      ],
      "execution_count": 4,
      "outputs": [
        {
          "output_type": "execute_result",
          "data": {
            "text/html": [
              "<div>\n",
              "<style scoped>\n",
              "    .dataframe tbody tr th:only-of-type {\n",
              "        vertical-align: middle;\n",
              "    }\n",
              "\n",
              "    .dataframe tbody tr th {\n",
              "        vertical-align: top;\n",
              "    }\n",
              "\n",
              "    .dataframe thead th {\n",
              "        text-align: right;\n",
              "    }\n",
              "</style>\n",
              "<table border=\"1\" class=\"dataframe\">\n",
              "  <thead>\n",
              "    <tr style=\"text-align: right;\">\n",
              "      <th></th>\n",
              "      <th>Time</th>\n",
              "      <th>V1</th>\n",
              "      <th>V2</th>\n",
              "      <th>V3</th>\n",
              "      <th>V4</th>\n",
              "      <th>V5</th>\n",
              "      <th>V6</th>\n",
              "      <th>V7</th>\n",
              "      <th>V8</th>\n",
              "      <th>V9</th>\n",
              "      <th>V10</th>\n",
              "      <th>V11</th>\n",
              "      <th>V12</th>\n",
              "      <th>V13</th>\n",
              "      <th>V14</th>\n",
              "      <th>V15</th>\n",
              "      <th>V16</th>\n",
              "      <th>V17</th>\n",
              "      <th>V18</th>\n",
              "      <th>V19</th>\n",
              "      <th>V20</th>\n",
              "      <th>V21</th>\n",
              "      <th>V22</th>\n",
              "      <th>V23</th>\n",
              "      <th>V24</th>\n",
              "      <th>V25</th>\n",
              "      <th>V26</th>\n",
              "      <th>V27</th>\n",
              "      <th>V28</th>\n",
              "      <th>Amount</th>\n",
              "      <th>Class</th>\n",
              "    </tr>\n",
              "  </thead>\n",
              "  <tbody>\n",
              "    <tr>\n",
              "      <th>count</th>\n",
              "      <td>128821.000000</td>\n",
              "      <td>128821.000000</td>\n",
              "      <td>128821.000000</td>\n",
              "      <td>128821.000000</td>\n",
              "      <td>128821.000000</td>\n",
              "      <td>128821.000000</td>\n",
              "      <td>128821.000000</td>\n",
              "      <td>128821.000000</td>\n",
              "      <td>128821.000000</td>\n",
              "      <td>128821.000000</td>\n",
              "      <td>128821.000000</td>\n",
              "      <td>128821.000000</td>\n",
              "      <td>128821.000000</td>\n",
              "      <td>128821.000000</td>\n",
              "      <td>128821.000000</td>\n",
              "      <td>128821.000000</td>\n",
              "      <td>128820.000000</td>\n",
              "      <td>128820.000000</td>\n",
              "      <td>128820.000000</td>\n",
              "      <td>128820.000000</td>\n",
              "      <td>128820.000000</td>\n",
              "      <td>128820.000000</td>\n",
              "      <td>128820.000000</td>\n",
              "      <td>128820.000000</td>\n",
              "      <td>128820.000000</td>\n",
              "      <td>128820.000000</td>\n",
              "      <td>128820.000000</td>\n",
              "      <td>128820.000000</td>\n",
              "      <td>128820.000000</td>\n",
              "      <td>128820.000000</td>\n",
              "      <td>128820.000000</td>\n",
              "    </tr>\n",
              "    <tr>\n",
              "      <th>mean</th>\n",
              "      <td>49336.332919</td>\n",
              "      <td>-0.249744</td>\n",
              "      <td>0.000916</td>\n",
              "      <td>0.675443</td>\n",
              "      <td>0.148242</td>\n",
              "      <td>-0.283905</td>\n",
              "      <td>0.082698</td>\n",
              "      <td>-0.116339</td>\n",
              "      <td>0.062151</td>\n",
              "      <td>-0.088806</td>\n",
              "      <td>-0.015430</td>\n",
              "      <td>0.219033</td>\n",
              "      <td>0.000600</td>\n",
              "      <td>-0.012927</td>\n",
              "      <td>0.034444</td>\n",
              "      <td>0.214593</td>\n",
              "      <td>-0.006016</td>\n",
              "      <td>0.048307</td>\n",
              "      <td>-0.089157</td>\n",
              "      <td>-0.020326</td>\n",
              "      <td>0.042462</td>\n",
              "      <td>-0.037040</td>\n",
              "      <td>-0.116116</td>\n",
              "      <td>-0.034347</td>\n",
              "      <td>0.011949</td>\n",
              "      <td>0.130182</td>\n",
              "      <td>0.025990</td>\n",
              "      <td>0.000309</td>\n",
              "      <td>0.002180</td>\n",
              "      <td>92.957430</td>\n",
              "      <td>0.002026</td>\n",
              "    </tr>\n",
              "    <tr>\n",
              "      <th>std</th>\n",
              "      <td>19835.452017</td>\n",
              "      <td>1.827108</td>\n",
              "      <td>1.623536</td>\n",
              "      <td>1.279349</td>\n",
              "      <td>1.328908</td>\n",
              "      <td>1.318513</td>\n",
              "      <td>1.286975</td>\n",
              "      <td>1.177426</td>\n",
              "      <td>1.213886</td>\n",
              "      <td>1.092654</td>\n",
              "      <td>1.051902</td>\n",
              "      <td>1.052331</td>\n",
              "      <td>1.042331</td>\n",
              "      <td>1.008100</td>\n",
              "      <td>0.930340</td>\n",
              "      <td>0.928554</td>\n",
              "      <td>0.884236</td>\n",
              "      <td>0.898904</td>\n",
              "      <td>0.837516</td>\n",
              "      <td>0.810673</td>\n",
              "      <td>0.730826</td>\n",
              "      <td>0.724081</td>\n",
              "      <td>0.636462</td>\n",
              "      <td>0.605542</td>\n",
              "      <td>0.594823</td>\n",
              "      <td>0.438585</td>\n",
              "      <td>0.491368</td>\n",
              "      <td>0.393115</td>\n",
              "      <td>0.313077</td>\n",
              "      <td>251.531566</td>\n",
              "      <td>0.044967</td>\n",
              "    </tr>\n",
              "    <tr>\n",
              "      <th>min</th>\n",
              "      <td>0.000000</td>\n",
              "      <td>-56.407510</td>\n",
              "      <td>-72.715728</td>\n",
              "      <td>-33.680984</td>\n",
              "      <td>-5.172595</td>\n",
              "      <td>-42.147898</td>\n",
              "      <td>-26.160506</td>\n",
              "      <td>-31.764946</td>\n",
              "      <td>-73.216718</td>\n",
              "      <td>-9.283925</td>\n",
              "      <td>-18.271168</td>\n",
              "      <td>-4.049895</td>\n",
              "      <td>-17.769143</td>\n",
              "      <td>-5.791881</td>\n",
              "      <td>-19.214325</td>\n",
              "      <td>-4.152532</td>\n",
              "      <td>-13.563273</td>\n",
              "      <td>-25.162799</td>\n",
              "      <td>-9.498746</td>\n",
              "      <td>-7.213527</td>\n",
              "      <td>-21.024817</td>\n",
              "      <td>-34.830382</td>\n",
              "      <td>-10.933144</td>\n",
              "      <td>-44.807735</td>\n",
              "      <td>-2.836627</td>\n",
              "      <td>-10.295397</td>\n",
              "      <td>-2.534330</td>\n",
              "      <td>-22.565679</td>\n",
              "      <td>-11.710896</td>\n",
              "      <td>0.000000</td>\n",
              "      <td>0.000000</td>\n",
              "    </tr>\n",
              "    <tr>\n",
              "      <th>25%</th>\n",
              "      <td>36686.000000</td>\n",
              "      <td>-1.018878</td>\n",
              "      <td>-0.578627</td>\n",
              "      <td>0.171589</td>\n",
              "      <td>-0.706709</td>\n",
              "      <td>-0.904555</td>\n",
              "      <td>-0.658506</td>\n",
              "      <td>-0.602705</td>\n",
              "      <td>-0.133052</td>\n",
              "      <td>-0.714779</td>\n",
              "      <td>-0.484611</td>\n",
              "      <td>-0.542419</td>\n",
              "      <td>-0.403608</td>\n",
              "      <td>-0.675158</td>\n",
              "      <td>-0.344148</td>\n",
              "      <td>-0.327739</td>\n",
              "      <td>-0.476362</td>\n",
              "      <td>-0.407425</td>\n",
              "      <td>-0.556709</td>\n",
              "      <td>-0.510732</td>\n",
              "      <td>-0.169248</td>\n",
              "      <td>-0.225684</td>\n",
              "      <td>-0.544795</td>\n",
              "      <td>-0.172853</td>\n",
              "      <td>-0.324408</td>\n",
              "      <td>-0.135906</td>\n",
              "      <td>-0.324451</td>\n",
              "      <td>-0.060633</td>\n",
              "      <td>-0.004177</td>\n",
              "      <td>6.480000</td>\n",
              "      <td>0.000000</td>\n",
              "    </tr>\n",
              "    <tr>\n",
              "      <th>50%</th>\n",
              "      <td>51135.000000</td>\n",
              "      <td>-0.262776</td>\n",
              "      <td>0.094615</td>\n",
              "      <td>0.750314</td>\n",
              "      <td>0.176410</td>\n",
              "      <td>-0.315833</td>\n",
              "      <td>-0.170887</td>\n",
              "      <td>-0.065428</td>\n",
              "      <td>0.078587</td>\n",
              "      <td>-0.149362</td>\n",
              "      <td>-0.093706</td>\n",
              "      <td>0.134792</td>\n",
              "      <td>0.148853</td>\n",
              "      <td>-0.017902</td>\n",
              "      <td>0.062655</td>\n",
              "      <td>0.326046</td>\n",
              "      <td>0.074097</td>\n",
              "      <td>-0.014703</td>\n",
              "      <td>-0.087872</td>\n",
              "      <td>-0.023485</td>\n",
              "      <td>-0.026084</td>\n",
              "      <td>-0.059204</td>\n",
              "      <td>-0.093726</td>\n",
              "      <td>-0.046243</td>\n",
              "      <td>0.068501</td>\n",
              "      <td>0.166809</td>\n",
              "      <td>-0.064829</td>\n",
              "      <td>0.011257</td>\n",
              "      <td>0.023580</td>\n",
              "      <td>24.950000</td>\n",
              "      <td>0.000000</td>\n",
              "    </tr>\n",
              "    <tr>\n",
              "      <th>75%</th>\n",
              "      <td>65852.000000</td>\n",
              "      <td>1.156873</td>\n",
              "      <td>0.764179</td>\n",
              "      <td>1.368481</td>\n",
              "      <td>1.004736</td>\n",
              "      <td>0.239278</td>\n",
              "      <td>0.469984</td>\n",
              "      <td>0.410077</td>\n",
              "      <td>0.371213</td>\n",
              "      <td>0.491574</td>\n",
              "      <td>0.433457</td>\n",
              "      <td>1.038451</td>\n",
              "      <td>0.639690</td>\n",
              "      <td>0.651212</td>\n",
              "      <td>0.463240</td>\n",
              "      <td>0.884483</td>\n",
              "      <td>0.536298</td>\n",
              "      <td>0.440222</td>\n",
              "      <td>0.385788</td>\n",
              "      <td>0.476591</td>\n",
              "      <td>0.166288</td>\n",
              "      <td>0.115816</td>\n",
              "      <td>0.303344</td>\n",
              "      <td>0.082950</td>\n",
              "      <td>0.408842</td>\n",
              "      <td>0.418398</td>\n",
              "      <td>0.290970</td>\n",
              "      <td>0.085342</td>\n",
              "      <td>0.077376</td>\n",
              "      <td>83.450000</td>\n",
              "      <td>0.000000</td>\n",
              "    </tr>\n",
              "    <tr>\n",
              "      <th>max</th>\n",
              "      <td>78852.000000</td>\n",
              "      <td>1.960497</td>\n",
              "      <td>18.902453</td>\n",
              "      <td>9.382558</td>\n",
              "      <td>16.715537</td>\n",
              "      <td>34.801666</td>\n",
              "      <td>22.529298</td>\n",
              "      <td>36.677268</td>\n",
              "      <td>20.007208</td>\n",
              "      <td>15.594995</td>\n",
              "      <td>23.745136</td>\n",
              "      <td>12.018913</td>\n",
              "      <td>7.848392</td>\n",
              "      <td>4.465413</td>\n",
              "      <td>10.526766</td>\n",
              "      <td>5.784514</td>\n",
              "      <td>6.098529</td>\n",
              "      <td>9.253526</td>\n",
              "      <td>5.041069</td>\n",
              "      <td>5.228342</td>\n",
              "      <td>39.420904</td>\n",
              "      <td>27.202839</td>\n",
              "      <td>10.503090</td>\n",
              "      <td>19.002942</td>\n",
              "      <td>4.016342</td>\n",
              "      <td>5.541598</td>\n",
              "      <td>3.517346</td>\n",
              "      <td>12.152401</td>\n",
              "      <td>33.847808</td>\n",
              "      <td>19656.530000</td>\n",
              "      <td>1.000000</td>\n",
              "    </tr>\n",
              "  </tbody>\n",
              "</table>\n",
              "</div>"
            ],
            "text/plain": [
              "                Time             V1  ...         Amount          Class\n",
              "count  128821.000000  128821.000000  ...  128820.000000  128820.000000\n",
              "mean    49336.332919      -0.249744  ...      92.957430       0.002026\n",
              "std     19835.452017       1.827108  ...     251.531566       0.044967\n",
              "min         0.000000     -56.407510  ...       0.000000       0.000000\n",
              "25%     36686.000000      -1.018878  ...       6.480000       0.000000\n",
              "50%     51135.000000      -0.262776  ...      24.950000       0.000000\n",
              "75%     65852.000000       1.156873  ...      83.450000       0.000000\n",
              "max     78852.000000       1.960497  ...   19656.530000       1.000000\n",
              "\n",
              "[8 rows x 31 columns]"
            ]
          },
          "metadata": {},
          "execution_count": 4
        }
      ]
    },
    {
      "cell_type": "code",
      "metadata": {
        "colab": {
          "base_uri": "https://localhost:8080/"
        },
        "id": "t8TYj_gYRCzg",
        "outputId": "5595034b-dec5-466e-e704-cb9730151834"
      },
      "source": [
        "# Evaluating data\n",
        "fraud_data.info()"
      ],
      "execution_count": 5,
      "outputs": [
        {
          "output_type": "stream",
          "name": "stdout",
          "text": [
            "<class 'pandas.core.frame.DataFrame'>\n",
            "RangeIndex: 128821 entries, 0 to 128820\n",
            "Data columns (total 31 columns):\n",
            " #   Column  Non-Null Count   Dtype  \n",
            "---  ------  --------------   -----  \n",
            " 0   Time    128821 non-null  int64  \n",
            " 1   V1      128821 non-null  float64\n",
            " 2   V2      128821 non-null  float64\n",
            " 3   V3      128821 non-null  float64\n",
            " 4   V4      128821 non-null  float64\n",
            " 5   V5      128821 non-null  float64\n",
            " 6   V6      128821 non-null  float64\n",
            " 7   V7      128821 non-null  float64\n",
            " 8   V8      128821 non-null  float64\n",
            " 9   V9      128821 non-null  float64\n",
            " 10  V10     128821 non-null  float64\n",
            " 11  V11     128821 non-null  float64\n",
            " 12  V12     128821 non-null  float64\n",
            " 13  V13     128821 non-null  float64\n",
            " 14  V14     128821 non-null  float64\n",
            " 15  V15     128821 non-null  float64\n",
            " 16  V16     128820 non-null  float64\n",
            " 17  V17     128820 non-null  float64\n",
            " 18  V18     128820 non-null  float64\n",
            " 19  V19     128820 non-null  float64\n",
            " 20  V20     128820 non-null  float64\n",
            " 21  V21     128820 non-null  float64\n",
            " 22  V22     128820 non-null  float64\n",
            " 23  V23     128820 non-null  float64\n",
            " 24  V24     128820 non-null  float64\n",
            " 25  V25     128820 non-null  float64\n",
            " 26  V26     128820 non-null  float64\n",
            " 27  V27     128820 non-null  float64\n",
            " 28  V28     128820 non-null  float64\n",
            " 29  Amount  128820 non-null  float64\n",
            " 30  Class   128820 non-null  float64\n",
            "dtypes: float64(30), int64(1)\n",
            "memory usage: 30.5 MB\n"
          ]
        }
      ]
    },
    {
      "cell_type": "code",
      "metadata": {
        "colab": {
          "base_uri": "https://localhost:8080/"
        },
        "id": "Se1RZo90SOvU",
        "outputId": "1a2841f0-faa5-48d8-e7a5-5a945dd329fd"
      },
      "source": [
        "# Checking for null values\n",
        "fraud_data.isna().sum()"
      ],
      "execution_count": 6,
      "outputs": [
        {
          "output_type": "execute_result",
          "data": {
            "text/plain": [
              "Time      0\n",
              "V1        0\n",
              "V2        0\n",
              "V3        0\n",
              "V4        0\n",
              "V5        0\n",
              "V6        0\n",
              "V7        0\n",
              "V8        0\n",
              "V9        0\n",
              "V10       0\n",
              "V11       0\n",
              "V12       0\n",
              "V13       0\n",
              "V14       0\n",
              "V15       0\n",
              "V16       1\n",
              "V17       1\n",
              "V18       1\n",
              "V19       1\n",
              "V20       1\n",
              "V21       1\n",
              "V22       1\n",
              "V23       1\n",
              "V24       1\n",
              "V25       1\n",
              "V26       1\n",
              "V27       1\n",
              "V28       1\n",
              "Amount    1\n",
              "Class     1\n",
              "dtype: int64"
            ]
          },
          "metadata": {},
          "execution_count": 6
        }
      ]
    },
    {
      "cell_type": "code",
      "metadata": {
        "colab": {
          "base_uri": "https://localhost:8080/",
          "height": 101
        },
        "id": "FUh4h1y_ScjH",
        "outputId": "2fbbb2c7-f9f5-4201-b49d-d4d91120caea"
      },
      "source": [
        "# Evaluating null values\n",
        "fraud_data[fraud_data['Amount'].isna()]"
      ],
      "execution_count": 7,
      "outputs": [
        {
          "output_type": "execute_result",
          "data": {
            "text/html": [
              "<div>\n",
              "<style scoped>\n",
              "    .dataframe tbody tr th:only-of-type {\n",
              "        vertical-align: middle;\n",
              "    }\n",
              "\n",
              "    .dataframe tbody tr th {\n",
              "        vertical-align: top;\n",
              "    }\n",
              "\n",
              "    .dataframe thead th {\n",
              "        text-align: right;\n",
              "    }\n",
              "</style>\n",
              "<table border=\"1\" class=\"dataframe\">\n",
              "  <thead>\n",
              "    <tr style=\"text-align: right;\">\n",
              "      <th></th>\n",
              "      <th>Time</th>\n",
              "      <th>V1</th>\n",
              "      <th>V2</th>\n",
              "      <th>V3</th>\n",
              "      <th>V4</th>\n",
              "      <th>V5</th>\n",
              "      <th>V6</th>\n",
              "      <th>V7</th>\n",
              "      <th>V8</th>\n",
              "      <th>V9</th>\n",
              "      <th>V10</th>\n",
              "      <th>V11</th>\n",
              "      <th>V12</th>\n",
              "      <th>V13</th>\n",
              "      <th>V14</th>\n",
              "      <th>V15</th>\n",
              "      <th>V16</th>\n",
              "      <th>V17</th>\n",
              "      <th>V18</th>\n",
              "      <th>V19</th>\n",
              "      <th>V20</th>\n",
              "      <th>V21</th>\n",
              "      <th>V22</th>\n",
              "      <th>V23</th>\n",
              "      <th>V24</th>\n",
              "      <th>V25</th>\n",
              "      <th>V26</th>\n",
              "      <th>V27</th>\n",
              "      <th>V28</th>\n",
              "      <th>Amount</th>\n",
              "      <th>Class</th>\n",
              "    </tr>\n",
              "  </thead>\n",
              "  <tbody>\n",
              "    <tr>\n",
              "      <th>128820</th>\n",
              "      <td>78852</td>\n",
              "      <td>-0.772608</td>\n",
              "      <td>0.88671</td>\n",
              "      <td>0.699519</td>\n",
              "      <td>1.757457</td>\n",
              "      <td>-0.504902</td>\n",
              "      <td>-0.963725</td>\n",
              "      <td>0.176063</td>\n",
              "      <td>0.15652</td>\n",
              "      <td>-0.654364</td>\n",
              "      <td>0.125472</td>\n",
              "      <td>-0.246172</td>\n",
              "      <td>0.064971</td>\n",
              "      <td>-0.003498</td>\n",
              "      <td>0.675742</td>\n",
              "      <td>1.60159</td>\n",
              "      <td>NaN</td>\n",
              "      <td>NaN</td>\n",
              "      <td>NaN</td>\n",
              "      <td>NaN</td>\n",
              "      <td>NaN</td>\n",
              "      <td>NaN</td>\n",
              "      <td>NaN</td>\n",
              "      <td>NaN</td>\n",
              "      <td>NaN</td>\n",
              "      <td>NaN</td>\n",
              "      <td>NaN</td>\n",
              "      <td>NaN</td>\n",
              "      <td>NaN</td>\n",
              "      <td>NaN</td>\n",
              "      <td>NaN</td>\n",
              "    </tr>\n",
              "  </tbody>\n",
              "</table>\n",
              "</div>"
            ],
            "text/plain": [
              "         Time        V1       V2        V3  ...  V27  V28  Amount  Class\n",
              "128820  78852 -0.772608  0.88671  0.699519  ...  NaN  NaN     NaN    NaN\n",
              "\n",
              "[1 rows x 31 columns]"
            ]
          },
          "metadata": {},
          "execution_count": 7
        }
      ]
    },
    {
      "cell_type": "code",
      "metadata": {
        "colab": {
          "base_uri": "https://localhost:8080/",
          "height": 101
        },
        "id": "h-hmI9eTTUfv",
        "outputId": "db535cd9-7f56-44c4-ba57-f16357250e8e"
      },
      "source": [
        "# Evaluating null values\n",
        "fraud_data[fraud_data['Class'].isna()]"
      ],
      "execution_count": 8,
      "outputs": [
        {
          "output_type": "execute_result",
          "data": {
            "text/html": [
              "<div>\n",
              "<style scoped>\n",
              "    .dataframe tbody tr th:only-of-type {\n",
              "        vertical-align: middle;\n",
              "    }\n",
              "\n",
              "    .dataframe tbody tr th {\n",
              "        vertical-align: top;\n",
              "    }\n",
              "\n",
              "    .dataframe thead th {\n",
              "        text-align: right;\n",
              "    }\n",
              "</style>\n",
              "<table border=\"1\" class=\"dataframe\">\n",
              "  <thead>\n",
              "    <tr style=\"text-align: right;\">\n",
              "      <th></th>\n",
              "      <th>Time</th>\n",
              "      <th>V1</th>\n",
              "      <th>V2</th>\n",
              "      <th>V3</th>\n",
              "      <th>V4</th>\n",
              "      <th>V5</th>\n",
              "      <th>V6</th>\n",
              "      <th>V7</th>\n",
              "      <th>V8</th>\n",
              "      <th>V9</th>\n",
              "      <th>V10</th>\n",
              "      <th>V11</th>\n",
              "      <th>V12</th>\n",
              "      <th>V13</th>\n",
              "      <th>V14</th>\n",
              "      <th>V15</th>\n",
              "      <th>V16</th>\n",
              "      <th>V17</th>\n",
              "      <th>V18</th>\n",
              "      <th>V19</th>\n",
              "      <th>V20</th>\n",
              "      <th>V21</th>\n",
              "      <th>V22</th>\n",
              "      <th>V23</th>\n",
              "      <th>V24</th>\n",
              "      <th>V25</th>\n",
              "      <th>V26</th>\n",
              "      <th>V27</th>\n",
              "      <th>V28</th>\n",
              "      <th>Amount</th>\n",
              "      <th>Class</th>\n",
              "    </tr>\n",
              "  </thead>\n",
              "  <tbody>\n",
              "    <tr>\n",
              "      <th>128820</th>\n",
              "      <td>78852</td>\n",
              "      <td>-0.772608</td>\n",
              "      <td>0.88671</td>\n",
              "      <td>0.699519</td>\n",
              "      <td>1.757457</td>\n",
              "      <td>-0.504902</td>\n",
              "      <td>-0.963725</td>\n",
              "      <td>0.176063</td>\n",
              "      <td>0.15652</td>\n",
              "      <td>-0.654364</td>\n",
              "      <td>0.125472</td>\n",
              "      <td>-0.246172</td>\n",
              "      <td>0.064971</td>\n",
              "      <td>-0.003498</td>\n",
              "      <td>0.675742</td>\n",
              "      <td>1.60159</td>\n",
              "      <td>NaN</td>\n",
              "      <td>NaN</td>\n",
              "      <td>NaN</td>\n",
              "      <td>NaN</td>\n",
              "      <td>NaN</td>\n",
              "      <td>NaN</td>\n",
              "      <td>NaN</td>\n",
              "      <td>NaN</td>\n",
              "      <td>NaN</td>\n",
              "      <td>NaN</td>\n",
              "      <td>NaN</td>\n",
              "      <td>NaN</td>\n",
              "      <td>NaN</td>\n",
              "      <td>NaN</td>\n",
              "      <td>NaN</td>\n",
              "    </tr>\n",
              "  </tbody>\n",
              "</table>\n",
              "</div>"
            ],
            "text/plain": [
              "         Time        V1       V2        V3  ...  V27  V28  Amount  Class\n",
              "128820  78852 -0.772608  0.88671  0.699519  ...  NaN  NaN     NaN    NaN\n",
              "\n",
              "[1 rows x 31 columns]"
            ]
          },
          "metadata": {},
          "execution_count": 8
        }
      ]
    },
    {
      "cell_type": "code",
      "metadata": {
        "colab": {
          "base_uri": "https://localhost:8080/",
          "height": 101
        },
        "id": "KfSaUttRTfzG",
        "outputId": "49ee5b23-eda4-4678-e930-c11dacf7e64f"
      },
      "source": [
        "# Evaluating null values\n",
        "fraud_data[fraud_data['V28'].isna()]"
      ],
      "execution_count": 9,
      "outputs": [
        {
          "output_type": "execute_result",
          "data": {
            "text/html": [
              "<div>\n",
              "<style scoped>\n",
              "    .dataframe tbody tr th:only-of-type {\n",
              "        vertical-align: middle;\n",
              "    }\n",
              "\n",
              "    .dataframe tbody tr th {\n",
              "        vertical-align: top;\n",
              "    }\n",
              "\n",
              "    .dataframe thead th {\n",
              "        text-align: right;\n",
              "    }\n",
              "</style>\n",
              "<table border=\"1\" class=\"dataframe\">\n",
              "  <thead>\n",
              "    <tr style=\"text-align: right;\">\n",
              "      <th></th>\n",
              "      <th>Time</th>\n",
              "      <th>V1</th>\n",
              "      <th>V2</th>\n",
              "      <th>V3</th>\n",
              "      <th>V4</th>\n",
              "      <th>V5</th>\n",
              "      <th>V6</th>\n",
              "      <th>V7</th>\n",
              "      <th>V8</th>\n",
              "      <th>V9</th>\n",
              "      <th>V10</th>\n",
              "      <th>V11</th>\n",
              "      <th>V12</th>\n",
              "      <th>V13</th>\n",
              "      <th>V14</th>\n",
              "      <th>V15</th>\n",
              "      <th>V16</th>\n",
              "      <th>V17</th>\n",
              "      <th>V18</th>\n",
              "      <th>V19</th>\n",
              "      <th>V20</th>\n",
              "      <th>V21</th>\n",
              "      <th>V22</th>\n",
              "      <th>V23</th>\n",
              "      <th>V24</th>\n",
              "      <th>V25</th>\n",
              "      <th>V26</th>\n",
              "      <th>V27</th>\n",
              "      <th>V28</th>\n",
              "      <th>Amount</th>\n",
              "      <th>Class</th>\n",
              "    </tr>\n",
              "  </thead>\n",
              "  <tbody>\n",
              "    <tr>\n",
              "      <th>128820</th>\n",
              "      <td>78852</td>\n",
              "      <td>-0.772608</td>\n",
              "      <td>0.88671</td>\n",
              "      <td>0.699519</td>\n",
              "      <td>1.757457</td>\n",
              "      <td>-0.504902</td>\n",
              "      <td>-0.963725</td>\n",
              "      <td>0.176063</td>\n",
              "      <td>0.15652</td>\n",
              "      <td>-0.654364</td>\n",
              "      <td>0.125472</td>\n",
              "      <td>-0.246172</td>\n",
              "      <td>0.064971</td>\n",
              "      <td>-0.003498</td>\n",
              "      <td>0.675742</td>\n",
              "      <td>1.60159</td>\n",
              "      <td>NaN</td>\n",
              "      <td>NaN</td>\n",
              "      <td>NaN</td>\n",
              "      <td>NaN</td>\n",
              "      <td>NaN</td>\n",
              "      <td>NaN</td>\n",
              "      <td>NaN</td>\n",
              "      <td>NaN</td>\n",
              "      <td>NaN</td>\n",
              "      <td>NaN</td>\n",
              "      <td>NaN</td>\n",
              "      <td>NaN</td>\n",
              "      <td>NaN</td>\n",
              "      <td>NaN</td>\n",
              "      <td>NaN</td>\n",
              "    </tr>\n",
              "  </tbody>\n",
              "</table>\n",
              "</div>"
            ],
            "text/plain": [
              "         Time        V1       V2        V3  ...  V27  V28  Amount  Class\n",
              "128820  78852 -0.772608  0.88671  0.699519  ...  NaN  NaN     NaN    NaN\n",
              "\n",
              "[1 rows x 31 columns]"
            ]
          },
          "metadata": {},
          "execution_count": 9
        }
      ]
    },
    {
      "cell_type": "code",
      "metadata": {
        "id": "03Y2WjiTTnli"
      },
      "source": [
        "# Removing null values from data\n",
        "fraud_data.dropna(inplace=True)"
      ],
      "execution_count": 10,
      "outputs": []
    },
    {
      "cell_type": "code",
      "metadata": {
        "colab": {
          "base_uri": "https://localhost:8080/"
        },
        "id": "nVn4b0s5Y2su",
        "outputId": "ac9ff2a5-a46a-455f-faf0-8726f4ed6b23"
      },
      "source": [
        "# Checking to make sure null data removed\n",
        "fraud_data.isna().sum()"
      ],
      "execution_count": 11,
      "outputs": [
        {
          "output_type": "execute_result",
          "data": {
            "text/plain": [
              "Time      0\n",
              "V1        0\n",
              "V2        0\n",
              "V3        0\n",
              "V4        0\n",
              "V5        0\n",
              "V6        0\n",
              "V7        0\n",
              "V8        0\n",
              "V9        0\n",
              "V10       0\n",
              "V11       0\n",
              "V12       0\n",
              "V13       0\n",
              "V14       0\n",
              "V15       0\n",
              "V16       0\n",
              "V17       0\n",
              "V18       0\n",
              "V19       0\n",
              "V20       0\n",
              "V21       0\n",
              "V22       0\n",
              "V23       0\n",
              "V24       0\n",
              "V25       0\n",
              "V26       0\n",
              "V27       0\n",
              "V28       0\n",
              "Amount    0\n",
              "Class     0\n",
              "dtype: int64"
            ]
          },
          "metadata": {},
          "execution_count": 11
        }
      ]
    },
    {
      "cell_type": "code",
      "metadata": {
        "colab": {
          "base_uri": "https://localhost:8080/"
        },
        "id": "Yhd7OKh_Sgp2",
        "outputId": "e63b0661-2877-4c52-eb9b-9f47e6e80ba2"
      },
      "source": [
        "# Turning class into an int to remove decimal\n",
        "fraud_data['Class'] = fraud_data['Class'].astype(int)\n",
        "fraud_data.info()"
      ],
      "execution_count": 12,
      "outputs": [
        {
          "output_type": "stream",
          "name": "stdout",
          "text": [
            "<class 'pandas.core.frame.DataFrame'>\n",
            "Int64Index: 128820 entries, 0 to 128819\n",
            "Data columns (total 31 columns):\n",
            " #   Column  Non-Null Count   Dtype  \n",
            "---  ------  --------------   -----  \n",
            " 0   Time    128820 non-null  int64  \n",
            " 1   V1      128820 non-null  float64\n",
            " 2   V2      128820 non-null  float64\n",
            " 3   V3      128820 non-null  float64\n",
            " 4   V4      128820 non-null  float64\n",
            " 5   V5      128820 non-null  float64\n",
            " 6   V6      128820 non-null  float64\n",
            " 7   V7      128820 non-null  float64\n",
            " 8   V8      128820 non-null  float64\n",
            " 9   V9      128820 non-null  float64\n",
            " 10  V10     128820 non-null  float64\n",
            " 11  V11     128820 non-null  float64\n",
            " 12  V12     128820 non-null  float64\n",
            " 13  V13     128820 non-null  float64\n",
            " 14  V14     128820 non-null  float64\n",
            " 15  V15     128820 non-null  float64\n",
            " 16  V16     128820 non-null  float64\n",
            " 17  V17     128820 non-null  float64\n",
            " 18  V18     128820 non-null  float64\n",
            " 19  V19     128820 non-null  float64\n",
            " 20  V20     128820 non-null  float64\n",
            " 21  V21     128820 non-null  float64\n",
            " 22  V22     128820 non-null  float64\n",
            " 23  V23     128820 non-null  float64\n",
            " 24  V24     128820 non-null  float64\n",
            " 25  V25     128820 non-null  float64\n",
            " 26  V26     128820 non-null  float64\n",
            " 27  V27     128820 non-null  float64\n",
            " 28  V28     128820 non-null  float64\n",
            " 29  Amount  128820 non-null  float64\n",
            " 30  Class   128820 non-null  int64  \n",
            "dtypes: float64(29), int64(2)\n",
            "memory usage: 31.5 MB\n"
          ]
        }
      ]
    },
    {
      "cell_type": "code",
      "metadata": {
        "colab": {
          "base_uri": "https://localhost:8080/"
        },
        "id": "WvxCQyVmY5LC",
        "outputId": "b91c844c-1617-45b1-917d-56964f38465d"
      },
      "source": [
        "# Checking shape of data\n",
        "fraud_data.shape"
      ],
      "execution_count": 13,
      "outputs": [
        {
          "output_type": "execute_result",
          "data": {
            "text/plain": [
              "(128820, 31)"
            ]
          },
          "metadata": {},
          "execution_count": 13
        }
      ]
    },
    {
      "cell_type": "code",
      "metadata": {
        "colab": {
          "base_uri": "https://localhost:8080/"
        },
        "id": "_sdm7RlgghFG",
        "outputId": "7f29b544-ff0a-4502-a9e6-db00e5544fc4"
      },
      "source": [
        "# Checking for duplicated data\n",
        "fraud_data.duplicated().sum()\n"
      ],
      "execution_count": 14,
      "outputs": [
        {
          "output_type": "execute_result",
          "data": {
            "text/plain": [
              "489"
            ]
          },
          "metadata": {},
          "execution_count": 14
        }
      ]
    },
    {
      "cell_type": "code",
      "metadata": {
        "id": "iGH17BGNul92"
      },
      "source": [
        "fraud_data.drop_duplicates(keep='first', inplace=True)"
      ],
      "execution_count": 15,
      "outputs": []
    },
    {
      "cell_type": "code",
      "metadata": {
        "colab": {
          "base_uri": "https://localhost:8080/"
        },
        "id": "RGf1hN57cMLa",
        "outputId": "bcae8eee-6741-4254-8b5a-d19bb2540b1f"
      },
      "source": [
        "# Checking the balance of the data. The data is imbalanced. \n",
        "fraud_data['Class'].value_counts()"
      ],
      "execution_count": 16,
      "outputs": [
        {
          "output_type": "execute_result",
          "data": {
            "text/plain": [
              "0    128075\n",
              "1       256\n",
              "Name: Class, dtype: int64"
            ]
          },
          "metadata": {},
          "execution_count": 16
        }
      ]
    },
    {
      "cell_type": "code",
      "metadata": {
        "colab": {
          "base_uri": "https://localhost:8080/"
        },
        "id": "CtQtfMuIO4Sg",
        "outputId": "a7cef459-6d45-4b2c-800e-3adceb0fdc02"
      },
      "source": [
        "fraud_data[['Amount','Class']].loc[fraud_data['Class']==0]['Amount'].describe()"
      ],
      "execution_count": 17,
      "outputs": [
        {
          "output_type": "execute_result",
          "data": {
            "text/plain": [
              "count    128075.000000\n",
              "mean         93.032941\n",
              "std         251.876562\n",
              "min           0.000000\n",
              "25%           6.500000\n",
              "50%          24.950000\n",
              "75%          83.500000\n",
              "max       19656.530000\n",
              "Name: Amount, dtype: float64"
            ]
          },
          "metadata": {},
          "execution_count": 17
        }
      ]
    },
    {
      "cell_type": "code",
      "metadata": {
        "colab": {
          "base_uri": "https://localhost:8080/"
        },
        "id": "_u2puWayRtt4",
        "outputId": "64ce652f-0c13-4d13-b10f-c7bc14d47393"
      },
      "source": [
        "fraud_data[['Amount','Class']].loc[fraud_data['Class']==1]['Amount'].describe()"
      ],
      "execution_count": 18,
      "outputs": [
        {
          "output_type": "execute_result",
          "data": {
            "text/plain": [
              "count     256.000000\n",
              "mean      118.939062\n",
              "std       248.165218\n",
              "min         0.000000\n",
              "25%         1.000000\n",
              "50%        13.385000\n",
              "75%       101.500000\n",
              "max      1809.680000\n",
              "Name: Amount, dtype: float64"
            ]
          },
          "metadata": {},
          "execution_count": 18
        }
      ]
    },
    {
      "cell_type": "code",
      "metadata": {
        "colab": {
          "base_uri": "https://localhost:8080/"
        },
        "id": "j6c_YKw_ZDkc",
        "outputId": "6d62c6ef-8c8d-4a5e-a9e3-c80794ab2bda"
      },
      "source": [
        "fraud = fraud_data[fraud_data['Class'] == 1]\n",
        "no_fraud = fraud_data[fraud_data['Class'] == 0]\n",
        "print('Fraud Cases: {}'.format(len(fraud)))\n",
        "print('Non-Fraud Cases: {}'.format(len(no_fraud)))"
      ],
      "execution_count": 19,
      "outputs": [
        {
          "output_type": "stream",
          "name": "stdout",
          "text": [
            "Fraud Cases: 256\n",
            "Non-Fraud Cases: 128075\n"
          ]
        }
      ]
    },
    {
      "cell_type": "code",
      "metadata": {
        "colab": {
          "base_uri": "https://localhost:8080/",
          "height": 854
        },
        "id": "9aDY1kL7JjX0",
        "outputId": "508cb3a6-b931-45f8-c19e-63df943a1891"
      },
      "source": [
        "plt.figure(figsize = (18,14))\n",
        "sns.heatmap(fraud_data.corr(), linewidths=.1, cmap='Blues')\n",
        "plt.title('Credit Card Transactions correlation');"
      ],
      "execution_count": 20,
      "outputs": [
        {
          "output_type": "display_data",
          "data": {
            "image/png": "[encoded data removed]",
            "text/plain": [
              "<Figure size 1296x1008 with 2 Axes>"
            ]
          },
          "metadata": {
            "needs_background": "light"
          }
        }
      ]
    },
    {
      "cell_type": "code",
      "metadata": {
        "colab": {
          "base_uri": "https://localhost:8080/",
          "height": 399
        },
        "id": "C-fzO4WCrTs7",
        "outputId": "5120b0b7-c79b-40a9-9673-dae11876117b"
      },
      "source": [
        "# Histogram to visually evaluate age\n",
        "plt.style.use('seaborn')\n",
        "plt.hist(fraud_data['Amount'], edgecolor='white', color='green', bins=100)\n",
        "plt.grid(False)\n",
        "plt.xlabel('Amount', fontsize=16, labelpad=10)\n",
        "plt.ylabel('Count', fontsize=16, labelpad=10)\n",
        "plt.xticks(fontsize=14)\n",
        "plt.yticks(fontsize=14)\n",
        "plt.xlim(1,2000)\n",
        "plt.ylim(0,140000)\n",
        "plt.title('Amount Counts', fontsize=18, pad=10);"
      ],
      "execution_count": 21,
      "outputs": [
        {
          "output_type": "display_data",
          "data": {
            "image/png": "[encoded data removed]",
            "text/plain": [
              "<Figure size 576x396 with 1 Axes>"
            ]
          },
          "metadata": {}
        }
      ]
    },
    {
      "cell_type": "code",
      "metadata": {
        "colab": {
          "base_uri": "https://localhost:8080/",
          "height": 399
        },
        "id": "DVYIiDsIATYR",
        "outputId": "b9f19eae-5802-4ab4-dffe-38fc58049c76"
      },
      "source": [
        "fig, ax = plt.subplots()\n",
        "count = fraud_data['Class'].value_counts()\n",
        "sns.barplot(data=fraud_data, x=count, y=count, hue='Class')\n",
        "ax.set_xticklabels(['Fraud', 'Non-Fraud'], fontsize=14)\n",
        "plt.yticks(fontsize=14)\n",
        "plt.ylim(0,160000)\n",
        "plt.title('Fraud Count', fontsize=18, pad=10)\n",
        "plt.ylabel('Count', fontsize=16, labelpad=10)\n",
        "plt.xlabel('Fraud', fontsize=16, labelpad=10);"
      ],
      "execution_count": 22,
      "outputs": [
        {
          "output_type": "display_data",
          "data": {
            "image/png": "[encoded data removed]",
            "text/plain": [
              "<Figure size 576x396 with 1 Axes>"
            ]
          },
          "metadata": {}
        }
      ]
    },
    {
      "cell_type": "code",
      "metadata": {
        "colab": {
          "base_uri": "https://localhost:8080/",
          "height": 426
        },
        "id": "-j-9UzEcD6wX",
        "outputId": "388190d6-537a-4bbe-9a5b-5c6a2bf7ab6e"
      },
      "source": [
        "fig, ax = plt.subplots(figsize=(8,6))\n",
        "sns.boxplot(x=\"Class\", y=\"Amount\", hue=\"Class\", data=fraud_data, palette='deep', showfliers=False)\n",
        "plt.title('Transaction Amount', fontsize=18, pad=10)\n",
        "plt.ylabel('Amount', fontsize=16, labelpad=10)\n",
        "plt.xlabel('Class', fontsize=16, labelpad=10)\n",
        "plt.ylim(0,300)\n",
        "ax.set_xticklabels(['Non-Fraud (0)', 'Fraud (1)'], fontsize=14);"
      ],
      "execution_count": 23,
      "outputs": [
        {
          "output_type": "display_data",
          "data": {
            "image/png": "[encoded data removed]",
            "text/plain": [
              "<Figure size 576x432 with 1 Axes>"
            ]
          },
          "metadata": {}
        }
      ]
    },
    {
      "cell_type": "code",
      "metadata": {
        "id": "6YORumg9y8Q8"
      },
      "source": [
        "#fraud_data['Hour'] = fraud_data['Time'].apply(lambda x: np.floor(x / 3600))"
      ],
      "execution_count": 24,
      "outputs": []
    },
    {
      "cell_type": "code",
      "metadata": {
        "id": "LLDrDXr9GDQ6",
        "colab": {
          "base_uri": "https://localhost:8080/"
        },
        "outputId": "2ce13edb-1596-4a5f-8d5c-92a4d5145e73"
      },
      "source": [
        "f_mask = fraud_data['Class']==1\n",
        "fraud_data[f_mask]['Class'].value_counts()"
      ],
      "execution_count": 25,
      "outputs": [
        {
          "output_type": "execute_result",
          "data": {
            "text/plain": [
              "1    256\n",
              "Name: Class, dtype: int64"
            ]
          },
          "metadata": {},
          "execution_count": 25
        }
      ]
    },
    {
      "cell_type": "code",
      "metadata": {
        "colab": {
          "base_uri": "https://localhost:8080/",
          "height": 537
        },
        "id": "jovaLySoyPRu",
        "outputId": "041684f9-0f32-4d8e-fcf1-5991f492bd32"
      },
      "source": [
        "plt.figure(figsize=(10,8))\n",
        "plt.plot(fraud_data[f_mask]['Time'], marker='.', markersize=10.0, lw=2, markerfacecolor='red');\n",
        "plt.grid(True)\n",
        "plt.ylim(0,100000)\n",
        "plt.xlim(1,160000)\n",
        "plt.title('True Fraud - Time', fontsize=18)\n",
        "plt.ylabel('Time', fontsize=16, labelpad=20)\n",
        "plt.xlabel('Transactions', fontsize=16, labelpad=20);"
      ],
      "execution_count": 26,
      "outputs": [
        {
          "output_type": "display_data",
          "data": {
            "image/png": "[encoded data removed]",
            "text/plain": [
              "<Figure size 720x576 with 1 Axes>"
            ]
          },
          "metadata": {}
        }
      ]
    },
    {
      "cell_type": "code",
      "metadata": {
        "colab": {
          "base_uri": "https://localhost:8080/",
          "height": 425
        },
        "id": "OdsOmTrWydlF",
        "outputId": "de0af681-b4d5-4e8d-859a-4a94c6c9612b"
      },
      "source": [
        "sns.scatterplot(x='Time', y='Amount', data=fraud_data[f_mask], color='red')\n",
        "plt.ylabel('Amount', fontsize=16, labelpad=20)\n",
        "plt.xlabel('Time in Seconds', fontsize=16, labelpad=20)\n",
        "plt.title('Time in Seconds Between Fraud Transactions and Amount of Fraud', fontsize=18, pad=30)\n",
        "plt.ylim(0,2000)\n",
        "plt.xlim(1,90000);"
      ],
      "execution_count": 27,
      "outputs": [
        {
          "output_type": "display_data",
          "data": {
            "image/png": "[encoded data removed]",
            "text/plain": [
              "<Figure size 576x396 with 1 Axes>"
            ]
          },
          "metadata": {}
        }
      ]
    },
    {
      "cell_type": "code",
      "metadata": {
        "id": "j9_fLVyB7mbq"
      },
      "source": [
        ""
      ],
      "execution_count": 27,
      "outputs": []
    },
    {
      "cell_type": "code",
      "metadata": {
        "id": "M_hCcArT7UDU"
      },
      "source": [
        ""
      ],
      "execution_count": 27,
      "outputs": []
    }
  ]
}